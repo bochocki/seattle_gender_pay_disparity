{
 "cells": [
  {
   "cell_type": "markdown",
   "metadata": {},
   "source": [
    "# Data analysis:"
   ]
  },
  {
   "cell_type": "code",
   "execution_count": 211,
   "metadata": {},
   "outputs": [],
   "source": [
    "# import statements\n",
    "import matplotlib as plt\n",
    "import pandas as pd\n",
    "import numpy as np\n",
    "import gender_guesser.detector as gender\n",
    "from sklearn.linear_model import LinearRegression\n",
    "from sklearn import datasets, linear_model\n",
    "from scipy.stats import ttest_ind, ranksums\n",
    "from scipy import stats\n",
    "import statsmodels.api as sm\n",
    "%matplotlib inline"
   ]
  },
  {
   "cell_type": "code",
   "execution_count": null,
   "metadata": {},
   "outputs": [],
   "source": [
    "# hard coded file names\n",
    "output_csv = './city_of_seattle_with_sex.csv'"
   ]
  },
  {
   "cell_type": "code",
   "execution_count": 177,
   "metadata": {},
   "outputs": [],
   "source": [
    "# read in the data (2017 salaries for all City of Seattle employees)\n",
    "df = pd.read_csv('https://data.seattle.gov/api/views/2khk-5ukd/rows.csv')"
   ]
  },
  {
   "cell_type": "code",
   "execution_count": 178,
   "metadata": {},
   "outputs": [
    {
     "data": {
      "text/plain": [
       "(12346, 5)"
      ]
     },
     "execution_count": 178,
     "metadata": {},
     "output_type": "execute_result"
    }
   ],
   "source": [
    "# explore how big this dataset is\n",
    "df.shape"
   ]
  },
  {
   "cell_type": "markdown",
   "metadata": {},
   "source": [
    "12346 employees with 5 columns of data"
   ]
  },
  {
   "cell_type": "code",
   "execution_count": 179,
   "metadata": {},
   "outputs": [
    {
     "data": {
      "text/html": [
       "<div>\n",
       "<style scoped>\n",
       "    .dataframe tbody tr th:only-of-type {\n",
       "        vertical-align: middle;\n",
       "    }\n",
       "\n",
       "    .dataframe tbody tr th {\n",
       "        vertical-align: top;\n",
       "    }\n",
       "\n",
       "    .dataframe thead th {\n",
       "        text-align: right;\n",
       "    }\n",
       "</style>\n",
       "<table border=\"1\" class=\"dataframe\">\n",
       "  <thead>\n",
       "    <tr style=\"text-align: right;\">\n",
       "      <th></th>\n",
       "      <th>Department</th>\n",
       "      <th>Last Name</th>\n",
       "      <th>First Name</th>\n",
       "      <th>Job Title</th>\n",
       "      <th>Hourly Rate</th>\n",
       "    </tr>\n",
       "  </thead>\n",
       "  <tbody>\n",
       "    <tr>\n",
       "      <th>0</th>\n",
       "      <td>Arts and Culture</td>\n",
       "      <td>Boas-Du Pree</td>\n",
       "      <td>Sandra</td>\n",
       "      <td>Admin Staff Asst</td>\n",
       "      <td>34.48</td>\n",
       "    </tr>\n",
       "    <tr>\n",
       "      <th>1</th>\n",
       "      <td>Arts and Culture</td>\n",
       "      <td>Bolisay</td>\n",
       "      <td>Ronald</td>\n",
       "      <td>Publc Relations Spec</td>\n",
       "      <td>29.09</td>\n",
       "    </tr>\n",
       "    <tr>\n",
       "      <th>2</th>\n",
       "      <td>Arts and Culture</td>\n",
       "      <td>Chai</td>\n",
       "      <td>Grace</td>\n",
       "      <td>Cooperative Intern *</td>\n",
       "      <td>16.12</td>\n",
       "    </tr>\n",
       "    <tr>\n",
       "      <th>3</th>\n",
       "      <td>Arts and Culture</td>\n",
       "      <td>Childers</td>\n",
       "      <td>Calandra</td>\n",
       "      <td>StratAdvsr3,Exempt</td>\n",
       "      <td>48.71</td>\n",
       "    </tr>\n",
       "    <tr>\n",
       "      <th>4</th>\n",
       "      <td>Arts and Culture</td>\n",
       "      <td>Crooks</td>\n",
       "      <td>Jennifer</td>\n",
       "      <td>Arts Prgm Spec</td>\n",
       "      <td>35.93</td>\n",
       "    </tr>\n",
       "  </tbody>\n",
       "</table>\n",
       "</div>"
      ],
      "text/plain": [
       "         Department     Last Name First Name             Job Title  \\\n",
       "0  Arts and Culture  Boas-Du Pree     Sandra      Admin Staff Asst   \n",
       "1  Arts and Culture       Bolisay     Ronald  Publc Relations Spec   \n",
       "2  Arts and Culture          Chai      Grace  Cooperative Intern *   \n",
       "3  Arts and Culture      Childers   Calandra    StratAdvsr3,Exempt   \n",
       "4  Arts and Culture        Crooks   Jennifer        Arts Prgm Spec   \n",
       "\n",
       "   Hourly Rate   \n",
       "0         34.48  \n",
       "1         29.09  \n",
       "2         16.12  \n",
       "3         48.71  \n",
       "4         35.93  "
      ]
     },
     "execution_count": 179,
     "metadata": {},
     "output_type": "execute_result"
    }
   ],
   "source": [
    "# look at the data just to see what it looks like\n",
    "df.head()"
   ]
  },
  {
   "cell_type": "code",
   "execution_count": 180,
   "metadata": {},
   "outputs": [],
   "source": [
    "# remove spaces from the column names so that they will be \n",
    "# easier to play with later on\n",
    "df.columns = ['depart', 'l_name', 'f_name', 'title', 'h_rate']"
   ]
  },
  {
   "cell_type": "code",
   "execution_count": 181,
   "metadata": {},
   "outputs": [
    {
     "data": {
      "text/html": [
       "<div>\n",
       "<style scoped>\n",
       "    .dataframe tbody tr th:only-of-type {\n",
       "        vertical-align: middle;\n",
       "    }\n",
       "\n",
       "    .dataframe tbody tr th {\n",
       "        vertical-align: top;\n",
       "    }\n",
       "\n",
       "    .dataframe thead th {\n",
       "        text-align: right;\n",
       "    }\n",
       "</style>\n",
       "<table border=\"1\" class=\"dataframe\">\n",
       "  <thead>\n",
       "    <tr style=\"text-align: right;\">\n",
       "      <th></th>\n",
       "      <th>depart</th>\n",
       "      <th>l_name</th>\n",
       "      <th>f_name</th>\n",
       "      <th>title</th>\n",
       "      <th>h_rate</th>\n",
       "    </tr>\n",
       "  </thead>\n",
       "  <tbody>\n",
       "    <tr>\n",
       "      <th>0</th>\n",
       "      <td>Arts and Culture</td>\n",
       "      <td>Boas-Du Pree</td>\n",
       "      <td>Sandra</td>\n",
       "      <td>Admin Staff Asst</td>\n",
       "      <td>34.48</td>\n",
       "    </tr>\n",
       "    <tr>\n",
       "      <th>1</th>\n",
       "      <td>Arts and Culture</td>\n",
       "      <td>Bolisay</td>\n",
       "      <td>Ronald</td>\n",
       "      <td>Publc Relations Spec</td>\n",
       "      <td>29.09</td>\n",
       "    </tr>\n",
       "    <tr>\n",
       "      <th>2</th>\n",
       "      <td>Arts and Culture</td>\n",
       "      <td>Chai</td>\n",
       "      <td>Grace</td>\n",
       "      <td>Cooperative Intern *</td>\n",
       "      <td>16.12</td>\n",
       "    </tr>\n",
       "    <tr>\n",
       "      <th>3</th>\n",
       "      <td>Arts and Culture</td>\n",
       "      <td>Childers</td>\n",
       "      <td>Calandra</td>\n",
       "      <td>StratAdvsr3,Exempt</td>\n",
       "      <td>48.71</td>\n",
       "    </tr>\n",
       "    <tr>\n",
       "      <th>4</th>\n",
       "      <td>Arts and Culture</td>\n",
       "      <td>Crooks</td>\n",
       "      <td>Jennifer</td>\n",
       "      <td>Arts Prgm Spec</td>\n",
       "      <td>35.93</td>\n",
       "    </tr>\n",
       "  </tbody>\n",
       "</table>\n",
       "</div>"
      ],
      "text/plain": [
       "             depart        l_name    f_name                 title  h_rate\n",
       "0  Arts and Culture  Boas-Du Pree    Sandra      Admin Staff Asst   34.48\n",
       "1  Arts and Culture       Bolisay    Ronald  Publc Relations Spec   29.09\n",
       "2  Arts and Culture          Chai     Grace  Cooperative Intern *   16.12\n",
       "3  Arts and Culture      Childers  Calandra    StratAdvsr3,Exempt   48.71\n",
       "4  Arts and Culture        Crooks  Jennifer        Arts Prgm Spec   35.93"
      ]
     },
     "execution_count": 181,
     "metadata": {},
     "output_type": "execute_result"
    }
   ],
   "source": [
    "# double check that the removal worked\n",
    "df.head()"
   ]
  },
  {
   "cell_type": "code",
   "execution_count": 188,
   "metadata": {},
   "outputs": [],
   "source": [
    "# add a column for sex and use 'gender_guesser' to estimate\n",
    "# what sex each individual is\n",
    "d = gender.Detector() # create sex detector object\n",
    "\n",
    "df['sex'] = list(map(lambda x : d.get_gender(x), df['f_name']))\n",
    "df.loc[df.sex == 'mostly_female', 'sex'] = 'female'\n",
    "df.loc[df.sex == 'mostly_male', 'sex'] = 'male'\n"
   ]
  },
  {
   "cell_type": "code",
   "execution_count": 189,
   "metadata": {},
   "outputs": [
    {
     "data": {
      "text/html": [
       "<div>\n",
       "<style scoped>\n",
       "    .dataframe tbody tr th:only-of-type {\n",
       "        vertical-align: middle;\n",
       "    }\n",
       "\n",
       "    .dataframe tbody tr th {\n",
       "        vertical-align: top;\n",
       "    }\n",
       "\n",
       "    .dataframe thead th {\n",
       "        text-align: right;\n",
       "    }\n",
       "</style>\n",
       "<table border=\"1\" class=\"dataframe\">\n",
       "  <thead>\n",
       "    <tr style=\"text-align: right;\">\n",
       "      <th></th>\n",
       "      <th>depart</th>\n",
       "      <th>l_name</th>\n",
       "      <th>f_name</th>\n",
       "      <th>title</th>\n",
       "      <th>h_rate</th>\n",
       "      <th>sex</th>\n",
       "    </tr>\n",
       "  </thead>\n",
       "  <tbody>\n",
       "    <tr>\n",
       "      <th>0</th>\n",
       "      <td>Arts and Culture</td>\n",
       "      <td>Boas-Du Pree</td>\n",
       "      <td>Sandra</td>\n",
       "      <td>Admin Staff Asst</td>\n",
       "      <td>34.48</td>\n",
       "      <td>female</td>\n",
       "    </tr>\n",
       "    <tr>\n",
       "      <th>1</th>\n",
       "      <td>Arts and Culture</td>\n",
       "      <td>Bolisay</td>\n",
       "      <td>Ronald</td>\n",
       "      <td>Publc Relations Spec</td>\n",
       "      <td>29.09</td>\n",
       "      <td>male</td>\n",
       "    </tr>\n",
       "    <tr>\n",
       "      <th>2</th>\n",
       "      <td>Arts and Culture</td>\n",
       "      <td>Chai</td>\n",
       "      <td>Grace</td>\n",
       "      <td>Cooperative Intern *</td>\n",
       "      <td>16.12</td>\n",
       "      <td>female</td>\n",
       "    </tr>\n",
       "    <tr>\n",
       "      <th>3</th>\n",
       "      <td>Arts and Culture</td>\n",
       "      <td>Childers</td>\n",
       "      <td>Calandra</td>\n",
       "      <td>StratAdvsr3,Exempt</td>\n",
       "      <td>48.71</td>\n",
       "      <td>unknown</td>\n",
       "    </tr>\n",
       "    <tr>\n",
       "      <th>4</th>\n",
       "      <td>Arts and Culture</td>\n",
       "      <td>Crooks</td>\n",
       "      <td>Jennifer</td>\n",
       "      <td>Arts Prgm Spec</td>\n",
       "      <td>35.93</td>\n",
       "      <td>female</td>\n",
       "    </tr>\n",
       "  </tbody>\n",
       "</table>\n",
       "</div>"
      ],
      "text/plain": [
       "             depart        l_name    f_name                 title  h_rate  \\\n",
       "0  Arts and Culture  Boas-Du Pree    Sandra      Admin Staff Asst   34.48   \n",
       "1  Arts and Culture       Bolisay    Ronald  Publc Relations Spec   29.09   \n",
       "2  Arts and Culture          Chai     Grace  Cooperative Intern *   16.12   \n",
       "3  Arts and Culture      Childers  Calandra    StratAdvsr3,Exempt   48.71   \n",
       "4  Arts and Culture        Crooks  Jennifer        Arts Prgm Spec   35.93   \n",
       "\n",
       "       sex  \n",
       "0   female  \n",
       "1     male  \n",
       "2   female  \n",
       "3  unknown  \n",
       "4   female  "
      ]
     },
     "execution_count": 189,
     "metadata": {},
     "output_type": "execute_result"
    }
   ],
   "source": [
    "df.head()"
   ]
  },
  {
   "cell_type": "code",
   "execution_count": 94,
   "metadata": {},
   "outputs": [],
   "source": [
    "# output the CSV file so that you can easily read it into R\n",
    "df.to_csv(output_csv)"
   ]
  },
  {
   "cell_type": "markdown",
   "metadata": {},
   "source": [
    "### Investigate the data a little more closely to figure out how jobs and salaries are distributed"
   ]
  },
  {
   "cell_type": "code",
   "execution_count": 56,
   "metadata": {},
   "outputs": [
    {
     "data": {
      "text/plain": [
       "sex\n",
       "andy        154\n",
       "female     3859\n",
       "male       7124\n",
       "unknown    1209\n",
       "Name: sex, dtype: int64"
      ]
     },
     "execution_count": 56,
     "metadata": {},
     "output_type": "execute_result"
    }
   ],
   "source": [
    "# how many individuals exist for each sex group\n",
    "df.groupby('sex').sex.count()"
   ]
  },
  {
   "cell_type": "markdown",
   "metadata": {},
   "source": [
    "The City of Seattle clearly employs more males than females."
   ]
  },
  {
   "cell_type": "code",
   "execution_count": 57,
   "metadata": {},
   "outputs": [
    {
     "data": {
      "text/plain": [
       "depart\n",
       "Arts and Culture                  0.002997\n",
       "City Auditor                      0.000810\n",
       "City Budget Office                0.003240\n",
       "City Employees Retirement Syst    0.002430\n",
       "City Light                        0.149846\n",
       "Civil Service Commissions         0.000648\n",
       "Community Police Commission       0.000324\n",
       "Construction and Land Use         0.000486\n",
       "Dept of Education & Early Lrng    0.004374\n",
       "Dept of Finance & Admn Svc        0.049895\n",
       "Dept of Neighborhoods             0.000081\n",
       "Fire Department                   0.088531\n",
       "Hearing Examiner                  0.000405\n",
       "Human Services                    0.033452\n",
       "Immigrant & Refugee Affairs       0.000729\n",
       "Intergovernmental Relations       0.000972\n",
       "Legislative                       0.000891\n",
       "Legislative-City Council          0.008586\n",
       "Mayor's Office                    0.003888\n",
       "Neighborhoods Department          0.004536\n",
       "Office for Civil Rights           0.002187\n",
       "Office of Economic Development    0.002916\n",
       "Office of Ethics & Elections      0.000810\n",
       "Office of Housing                 0.003159\n",
       "Office of Labor Standards         0.001134\n",
       "Office of Sustainability & Env    0.001944\n",
       "Parks Department                  0.122064\n",
       "Planning and Community Develop    0.003564\n",
       "Police Department                 0.159242\n",
       "Police Pension System             0.000324\n",
       "Seattle Center                    0.066094\n",
       "Seattle Dept of Const and Insp    0.029969\n",
       "Seattle Dept of HumanResources    0.008262\n",
       "Seattle Dept of Transportation    0.073465\n",
       "Seattle Information Technology    0.054107\n",
       "Seattle Public Utilities          0.113640\n",
       "Name: depart, dtype: float64"
      ]
     },
     "execution_count": 57,
     "metadata": {},
     "output_type": "execute_result"
    }
   ],
   "source": [
    "# print the proportion of total employees in each department\n",
    "df.groupby('depart').depart.count()/sum(df.groupby('depart').depart.count())"
   ]
  },
  {
   "cell_type": "markdown",
   "metadata": {},
   "source": [
    "A relatively small number of departments contain most of the employees (SPU, PD, Parks, and City Light)."
   ]
  },
  {
   "cell_type": "code",
   "execution_count": 190,
   "metadata": {},
   "outputs": [
    {
     "data": {
      "text/plain": [
       "depart                          sex    \n",
       "Arts and Culture                andy          1\n",
       "                                female       26\n",
       "                                male          7\n",
       "                                unknown       3\n",
       "City Auditor                    female        7\n",
       "                                male          3\n",
       "City Budget Office              female       22\n",
       "                                male         16\n",
       "                                unknown       2\n",
       "City Employees Retirement Syst  andy          1\n",
       "                                female       20\n",
       "                                male          7\n",
       "                                unknown       2\n",
       "City Light                      andy         30\n",
       "                                female      487\n",
       "                                male       1153\n",
       "                                unknown     180\n",
       "Civil Service Commissions       female        5\n",
       "                                male          3\n",
       "Community Police Commission     female        2\n",
       "                                unknown       2\n",
       "Construction and Land Use       female        3\n",
       "                                male          2\n",
       "                                unknown       1\n",
       "Dept of Education & Early Lrng  andy          1\n",
       "                                female       36\n",
       "                                male         11\n",
       "                                unknown       6\n",
       "Dept of Finance & Admn Svc      andy         14\n",
       "                                female      239\n",
       "                                           ... \n",
       "Planning and Community Develop  unknown       5\n",
       "Police Department               andy         16\n",
       "                                female      516\n",
       "                                male       1345\n",
       "                                unknown      89\n",
       "Police Pension System           female        2\n",
       "                                male          2\n",
       "Seattle Center                  andy         10\n",
       "                                female      241\n",
       "                                male        475\n",
       "                                unknown      90\n",
       "Seattle Dept of Const and Insp  andy          6\n",
       "                                female      129\n",
       "                                male        205\n",
       "                                unknown      30\n",
       "Seattle Dept of HumanResources  female       75\n",
       "                                male         22\n",
       "                                unknown       5\n",
       "Seattle Dept of Transportation  andy         14\n",
       "                                female      276\n",
       "                                male        501\n",
       "                                unknown     116\n",
       "Seattle Information Technology  andy         12\n",
       "                                female      213\n",
       "                                male        376\n",
       "                                unknown      67\n",
       "Seattle Public Utilities        andy         16\n",
       "                                female      458\n",
       "                                male        754\n",
       "                                unknown     175\n",
       "Name: depart, Length: 122, dtype: int64"
      ]
     },
     "execution_count": 190,
     "metadata": {},
     "output_type": "execute_result"
    }
   ],
   "source": [
    "# What if we break this down by sex within department\n",
    "\n",
    "# How many employees are there for each department for each sex?\n",
    "df.groupby(['depart', 'sex']).depart.count()"
   ]
  },
  {
   "cell_type": "markdown",
   "metadata": {},
   "source": [
    "On a quick glance, it looks like most large departments employ more males than females. We'll explore this further in R."
   ]
  },
  {
   "cell_type": "code",
   "execution_count": 59,
   "metadata": {},
   "outputs": [
    {
     "data": {
      "text/plain": [
       "depart                          sex    \n",
       "Arts and Culture                andy       0.027027\n",
       "                                female     0.702703\n",
       "                                male       0.189189\n",
       "                                unknown    0.081081\n",
       "City Auditor                    female     0.700000\n",
       "                                male       0.300000\n",
       "City Budget Office              female     0.550000\n",
       "                                male       0.400000\n",
       "                                unknown    0.050000\n",
       "City Employees Retirement Syst  andy       0.033333\n",
       "                                female     0.666667\n",
       "                                male       0.233333\n",
       "                                unknown    0.066667\n",
       "City Light                      andy       0.016216\n",
       "                                female     0.263243\n",
       "                                male       0.623243\n",
       "                                unknown    0.097297\n",
       "Civil Service Commissions       female     0.625000\n",
       "                                male       0.375000\n",
       "Community Police Commission     female     0.500000\n",
       "                                unknown    0.500000\n",
       "Construction and Land Use       female     0.500000\n",
       "                                male       0.333333\n",
       "                                unknown    0.166667\n",
       "Dept of Education & Early Lrng  andy       0.018519\n",
       "                                female     0.666667\n",
       "                                male       0.203704\n",
       "                                unknown    0.111111\n",
       "Dept of Finance & Admn Svc      andy       0.022727\n",
       "                                female     0.387987\n",
       "                                             ...   \n",
       "Planning and Community Develop  unknown    0.113636\n",
       "Police Department               andy       0.008138\n",
       "                                female     0.262462\n",
       "                                male       0.684130\n",
       "                                unknown    0.045270\n",
       "Police Pension System           female     0.500000\n",
       "                                male       0.500000\n",
       "Seattle Center                  andy       0.012255\n",
       "                                female     0.295343\n",
       "                                male       0.582108\n",
       "                                unknown    0.110294\n",
       "Seattle Dept of Const and Insp  andy       0.016216\n",
       "                                female     0.348649\n",
       "                                male       0.554054\n",
       "                                unknown    0.081081\n",
       "Seattle Dept of HumanResources  female     0.735294\n",
       "                                male       0.215686\n",
       "                                unknown    0.049020\n",
       "Seattle Dept of Transportation  andy       0.015436\n",
       "                                female     0.304300\n",
       "                                male       0.552370\n",
       "                                unknown    0.127894\n",
       "Seattle Information Technology  andy       0.017964\n",
       "                                female     0.318862\n",
       "                                male       0.562874\n",
       "                                unknown    0.100299\n",
       "Seattle Public Utilities        andy       0.011404\n",
       "                                female     0.326443\n",
       "                                male       0.537420\n",
       "                                unknown    0.124733\n",
       "Name: depart, Length: 122, dtype: float64"
      ]
     },
     "execution_count": 59,
     "metadata": {},
     "output_type": "execute_result"
    }
   ],
   "source": [
    "# proportions of each sex within each department\n",
    "df.groupby(['depart', 'sex']).depart.count()/df.groupby(['depart']).depart.count()"
   ]
  },
  {
   "cell_type": "markdown",
   "metadata": {},
   "source": [
    "O.k., so it looks pretty clear that the City of Seattle employs more males than females, but do they get paid the same?"
   ]
  },
  {
   "cell_type": "markdown",
   "metadata": {},
   "source": [
    "### Statistical tests on salary differences between males and females"
   ]
  },
  {
   "cell_type": "code",
   "execution_count": 73,
   "metadata": {},
   "outputs": [
    {
     "data": {
      "text/plain": [
       "(array([  4.,   0.,   0.,   0.,   0.,   0.,   0.,  35., 307.,  24.,  15.,\n",
       "         58.,  51.,  62.,  60., 167., 236.,  81., 171., 180., 108., 112.,\n",
       "        116., 140.,  96.,  79., 135., 106.,  84., 105., 107., 117., 137.,\n",
       "        154., 100., 113.,  62.,  83.,  46.,  83.,  61.,  36.,  32.,  33.,\n",
       "         30.,  33.,  20.,  13.,   7.,   9.,   3.,   8.,   2.,   5.,   5.,\n",
       "          4.,   2.,   5.,   0.,   0.,   1.,   1.,   1.,   1.,   1.,   5.,\n",
       "          0.,   0.,   1.,   0.,   2.,   0.,   0.,   1.,   0.,   1.,   0.,\n",
       "          0.,   0.,   0.,   0.,   0.,   0.,   0.,   0.,   0.,   0.,   0.,\n",
       "          0.,   0.,   0.,   0.,   0.,   0.,   0.,   1.,   0.,   0.,   0.,\n",
       "          1.]),\n",
       " array([  5.11  ,   6.3999,   7.6898,   8.9797,  10.2696,  11.5595,\n",
       "         12.8494,  14.1393,  15.4292,  16.7191,  18.009 ,  19.2989,\n",
       "         20.5888,  21.8787,  23.1686,  24.4585,  25.7484,  27.0383,\n",
       "         28.3282,  29.6181,  30.908 ,  32.1979,  33.4878,  34.7777,\n",
       "         36.0676,  37.3575,  38.6474,  39.9373,  41.2272,  42.5171,\n",
       "         43.807 ,  45.0969,  46.3868,  47.6767,  48.9666,  50.2565,\n",
       "         51.5464,  52.8363,  54.1262,  55.4161,  56.706 ,  57.9959,\n",
       "         59.2858,  60.5757,  61.8656,  63.1555,  64.4454,  65.7353,\n",
       "         67.0252,  68.3151,  69.605 ,  70.8949,  72.1848,  73.4747,\n",
       "         74.7646,  76.0545,  77.3444,  78.6343,  79.9242,  81.2141,\n",
       "         82.504 ,  83.7939,  85.0838,  86.3737,  87.6636,  88.9535,\n",
       "         90.2434,  91.5333,  92.8232,  94.1131,  95.403 ,  96.6929,\n",
       "         97.9828,  99.2727, 100.5626, 101.8525, 103.1424, 104.4323,\n",
       "        105.7222, 107.0121, 108.302 , 109.5919, 110.8818, 112.1717,\n",
       "        113.4616, 114.7515, 116.0414, 117.3313, 118.6212, 119.9111,\n",
       "        121.201 , 122.4909, 123.7808, 125.0707, 126.3606, 127.6505,\n",
       "        128.9404, 130.2303, 131.5202, 132.8101, 134.1   ]),\n",
       " <a list of 100 Patch objects>)"
      ]
     },
     "execution_count": 73,
     "metadata": {},
     "output_type": "execute_result"
    },
    {
     "data": {
      "image/png": "[encoded data removed]",
      "text/plain": [
       "<matplotlib.figure.Figure at 0x10dda2748>"
      ]
     },
     "metadata": {},
     "output_type": "display_data"
    }
   ],
   "source": [
    "# histogram of female hourly rate\n",
    "plt.pyplot.hist(df[df['sex']=='female']['h_rate'], bins=100)"
   ]
  },
  {
   "cell_type": "code",
   "execution_count": 74,
   "metadata": {},
   "outputs": [
    {
     "data": {
      "text/plain": [
       "(array([  7.,   0.,   0.,   0.,   0.,   0., 253., 111.,  46.,  80.,  85.,\n",
       "        154., 253., 224., 196., 459., 194., 319., 300., 242., 272., 265.,\n",
       "        266., 299., 494., 475., 287., 496., 222., 221., 119., 128., 154.,\n",
       "         91.,  98.,  49.,  38.,  45.,  22.,  16.,  30.,  19.,  13.,   5.,\n",
       "          3.,   9.,   3.,   7.,  12.,   9.,   9.,   1.,   1.,   3.,   2.,\n",
       "          1.,   3.,   1.,   1.,   3.,   1.,   1.,   0.,   2.,   2.,   1.,\n",
       "          0.,   0.,   1.,   0.,   0.,   0.,   0.,   0.,   0.,   0.,   0.,\n",
       "          0.,   0.,   0.,   0.,   0.,   0.,   0.,   0.,   0.,   0.,   0.,\n",
       "          0.,   0.,   0.,   0.,   0.,   0.,   0.,   0.,   0.,   0.,   0.,\n",
       "          1.]),\n",
       " array([  5.11 ,   6.728,   8.346,   9.964,  11.582,  13.2  ,  14.818,\n",
       "         16.436,  18.054,  19.672,  21.29 ,  22.908,  24.526,  26.144,\n",
       "         27.762,  29.38 ,  30.998,  32.616,  34.234,  35.852,  37.47 ,\n",
       "         39.088,  40.706,  42.324,  43.942,  45.56 ,  47.178,  48.796,\n",
       "         50.414,  52.032,  53.65 ,  55.268,  56.886,  58.504,  60.122,\n",
       "         61.74 ,  63.358,  64.976,  66.594,  68.212,  69.83 ,  71.448,\n",
       "         73.066,  74.684,  76.302,  77.92 ,  79.538,  81.156,  82.774,\n",
       "         84.392,  86.01 ,  87.628,  89.246,  90.864,  92.482,  94.1  ,\n",
       "         95.718,  97.336,  98.954, 100.572, 102.19 , 103.808, 105.426,\n",
       "        107.044, 108.662, 110.28 , 111.898, 113.516, 115.134, 116.752,\n",
       "        118.37 , 119.988, 121.606, 123.224, 124.842, 126.46 , 128.078,\n",
       "        129.696, 131.314, 132.932, 134.55 , 136.168, 137.786, 139.404,\n",
       "        141.022, 142.64 , 144.258, 145.876, 147.494, 149.112, 150.73 ,\n",
       "        152.348, 153.966, 155.584, 157.202, 158.82 , 160.438, 162.056,\n",
       "        163.674, 165.292, 166.91 ]),\n",
       " <a list of 100 Patch objects>)"
      ]
     },
     "execution_count": 74,
     "metadata": {},
     "output_type": "execute_result"
    },
    {
     "data": {
      "image/png": "[encoded data removed]",
      "text/plain": [
       "<matplotlib.figure.Figure at 0x1112df198>"
      ]
     },
     "metadata": {},
     "output_type": "display_data"
    }
   ],
   "source": [
    "# histogram of male hourly rate\n",
    "plt.pyplot.hist(df[df['sex']=='male']['h_rate'], bins=100)"
   ]
  },
  {
   "cell_type": "markdown",
   "metadata": {},
   "source": [
    "Both of these histograms look fairly 'normal', so it should be o.k. to run a simple T-test for differences in mean compensation."
   ]
  },
  {
   "cell_type": "code",
   "execution_count": 75,
   "metadata": {},
   "outputs": [
    {
     "data": {
      "text/plain": [
       "sex\n",
       "andy       36.88\n",
       "female     36.30\n",
       "male       41.57\n",
       "unknown    31.93\n",
       "Name: h_rate, dtype: float64"
      ]
     },
     "execution_count": 75,
     "metadata": {},
     "output_type": "execute_result"
    }
   ],
   "source": [
    "# median hourly rate by sex\n",
    "df.groupby(['sex']).h_rate.median()"
   ]
  },
  {
   "cell_type": "code",
   "execution_count": 76,
   "metadata": {},
   "outputs": [
    {
     "data": {
      "text/plain": [
       "sex\n",
       "andy       37.993831\n",
       "female     37.574457\n",
       "male       40.578439\n",
       "unknown    34.115054\n",
       "Name: h_rate, dtype: float64"
      ]
     },
     "execution_count": 76,
     "metadata": {},
     "output_type": "execute_result"
    }
   ],
   "source": [
    "# mean hourly rate by sex\n",
    "df.groupby(['sex']).h_rate.mean()"
   ]
  },
  {
   "cell_type": "code",
   "execution_count": 79,
   "metadata": {},
   "outputs": [
    {
     "data": {
      "text/plain": [
       "Ttest_indResult(statistic=11.107692912188645, pvalue=1.6325584764614758e-28)"
      ]
     },
     "execution_count": 79,
     "metadata": {},
     "output_type": "execute_result"
    }
   ],
   "source": [
    "# the data look fairly normally distributed so I'm going to run a t-test on hourly rate between the sexes\n",
    "ttest_ind(a=df[df['sex']=='male']['h_rate'], b=df[df['sex']=='female']['h_rate'])"
   ]
  },
  {
   "cell_type": "code",
   "execution_count": 93,
   "metadata": {},
   "outputs": [
    {
     "data": {
      "text/plain": [
       "RanksumsResult(statistic=11.496587232409775, pvalue=1.3723496208774391e-30)"
      ]
     },
     "execution_count": 93,
     "metadata": {},
     "output_type": "execute_result"
    }
   ],
   "source": [
    "# just in case the data are not normal, I'll run a rank sum test\n",
    "ranksums(x=df[df['sex']=='male']['h_rate'], y=df[df['sex']=='female']['h_rate'])"
   ]
  },
  {
   "cell_type": "markdown",
   "metadata": {},
   "source": [
    "Clearly, the average hourly rate between males and females is different, with males making more. What could be driving this pattern? It may be that men have a greater proportion of the higher paying jobs. I'll investigate that a little below and Brad will look further in R."
   ]
  },
  {
   "cell_type": "code",
   "execution_count": 257,
   "metadata": {},
   "outputs": [],
   "source": [
    "# this is a function that will group salaries into bins for every $10\n",
    "# so that I can look at proportions of males and females in each group\n",
    "def roundCloses10(f_number): # float number\n",
    "    remainder = f_number%10\n",
    "    if remainder < 5:\n",
    "        return (f_number-remainder)\n",
    "    else:\n",
    "        return (f_number + (10-remainder))"
   ]
  },
  {
   "cell_type": "code",
   "execution_count": 258,
   "metadata": {},
   "outputs": [],
   "source": [
    "df['salary_bin'] = list(map(lambda x : roundCloses10(x), df['h_rate']))"
   ]
  },
  {
   "cell_type": "code",
   "execution_count": 259,
   "metadata": {},
   "outputs": [
    {
     "data": {
      "text/plain": [
       "salary_bin  sex    \n",
       "10.0        female     0.363636\n",
       "            male       0.636364\n",
       "20.0        andy       0.015410\n",
       "            female     0.386351\n",
       "            male       0.417171\n",
       "            unknown    0.181068\n",
       "30.0        andy       0.013518\n",
       "            female     0.334869\n",
       "            male       0.536713\n",
       "            unknown    0.114900\n",
       "40.0        andy       0.011792\n",
       "            female     0.274812\n",
       "            male       0.637406\n",
       "            unknown    0.075991\n",
       "50.0        andy       0.007997\n",
       "            female     0.278860\n",
       "            male       0.650556\n",
       "            unknown    0.062587\n",
       "60.0        andy       0.020161\n",
       "            female     0.331653\n",
       "            male       0.573589\n",
       "            unknown    0.074597\n",
       "70.0        andy       0.013575\n",
       "            female     0.276018\n",
       "            male       0.656109\n",
       "            unknown    0.054299\n",
       "80.0        female     0.288136\n",
       "            male       0.661017\n",
       "            unknown    0.050847\n",
       "90.0        female     0.243243\n",
       "            male       0.648649\n",
       "            unknown    0.108108\n",
       "100.0       female     0.266667\n",
       "            male       0.666667\n",
       "            unknown    0.066667\n",
       "110.0       male       1.000000\n",
       "120.0       male       1.000000\n",
       "130.0       female     1.000000\n",
       "170.0       male       1.000000\n",
       "Name: depart, dtype: float64"
      ]
     },
     "execution_count": 259,
     "metadata": {},
     "output_type": "execute_result"
    }
   ],
   "source": [
    "# look at the sex proportions in each group\n",
    "df.groupby(['salary_bin', 'sex']).depart.count()/df.groupby(['salary_bin']).depart.count()"
   ]
  },
  {
   "cell_type": "markdown",
   "metadata": {},
   "source": [
    "It seems like there is a pattern where females have a smaller proportion of high paying jobs than low playing jobs. We'll explore this more in R."
   ]
  },
  {
   "cell_type": "code",
   "execution_count": null,
   "metadata": {},
   "outputs": [],
   "source": []
  },
  {
   "cell_type": "markdown",
   "metadata": {},
   "source": [
    "### Create a linear model"
   ]
  },
  {
   "cell_type": "markdown",
   "metadata": {},
   "source": [
    "Using a simple T-test, women were shown to have lower salaries than men, but is this still true after accounting for each department? To look into this, I'm going to create a linear model and see."
   ]
  },
  {
   "cell_type": "code",
   "execution_count": 14,
   "metadata": {},
   "outputs": [
    {
     "name": "stdout",
     "output_type": "stream",
     "text": [
      "Number of unique job titles: 1026\n",
      "Number of total employees: 12346\n"
     ]
    }
   ],
   "source": [
    "print('Number of unique job titles:', len(set(df['title'])))\n",
    "print('Number of total employees:', df.shape[0])"
   ]
  },
  {
   "cell_type": "markdown",
   "metadata": {},
   "source": [
    "On average, each job is only observed 10 times. This makes me nervous that including this feature in a model will lead to overfitting, so I'm going to exclude it."
   ]
  },
  {
   "cell_type": "code",
   "execution_count": 262,
   "metadata": {},
   "outputs": [],
   "source": [
    "# create one hot encoded variables, and only keeps rows with a male or female classification\n",
    "df_dummy = df.drop(['l_name', 'f_name', 'title', 'salary_bin'], axis=1)\n",
    "df_dummy = df_dummy.loc[((df_dummy['sex']=='female') | (df_dummy['sex']=='male'))]"
   ]
  },
  {
   "cell_type": "code",
   "execution_count": 263,
   "metadata": {},
   "outputs": [
    {
     "data": {
      "text/html": [
       "<div>\n",
       "<style scoped>\n",
       "    .dataframe tbody tr th:only-of-type {\n",
       "        vertical-align: middle;\n",
       "    }\n",
       "\n",
       "    .dataframe tbody tr th {\n",
       "        vertical-align: top;\n",
       "    }\n",
       "\n",
       "    .dataframe thead th {\n",
       "        text-align: right;\n",
       "    }\n",
       "</style>\n",
       "<table border=\"1\" class=\"dataframe\">\n",
       "  <thead>\n",
       "    <tr style=\"text-align: right;\">\n",
       "      <th></th>\n",
       "      <th>depart</th>\n",
       "      <th>h_rate</th>\n",
       "      <th>sex</th>\n",
       "    </tr>\n",
       "  </thead>\n",
       "  <tbody>\n",
       "    <tr>\n",
       "      <th>0</th>\n",
       "      <td>Arts and Culture</td>\n",
       "      <td>34.48</td>\n",
       "      <td>female</td>\n",
       "    </tr>\n",
       "    <tr>\n",
       "      <th>1</th>\n",
       "      <td>Arts and Culture</td>\n",
       "      <td>29.09</td>\n",
       "      <td>male</td>\n",
       "    </tr>\n",
       "    <tr>\n",
       "      <th>2</th>\n",
       "      <td>Arts and Culture</td>\n",
       "      <td>16.12</td>\n",
       "      <td>female</td>\n",
       "    </tr>\n",
       "    <tr>\n",
       "      <th>4</th>\n",
       "      <td>Arts and Culture</td>\n",
       "      <td>35.93</td>\n",
       "      <td>female</td>\n",
       "    </tr>\n",
       "    <tr>\n",
       "      <th>5</th>\n",
       "      <td>Arts and Culture</td>\n",
       "      <td>39.29</td>\n",
       "      <td>female</td>\n",
       "    </tr>\n",
       "  </tbody>\n",
       "</table>\n",
       "</div>"
      ],
      "text/plain": [
       "             depart  h_rate     sex\n",
       "0  Arts and Culture   34.48  female\n",
       "1  Arts and Culture   29.09    male\n",
       "2  Arts and Culture   16.12  female\n",
       "4  Arts and Culture   35.93  female\n",
       "5  Arts and Culture   39.29  female"
      ]
     },
     "execution_count": 263,
     "metadata": {},
     "output_type": "execute_result"
    }
   ],
   "source": [
    "df_dummy.head()"
   ]
  },
  {
   "cell_type": "code",
   "execution_count": 264,
   "metadata": {},
   "outputs": [],
   "source": [
    "df_dummy = pd.get_dummies(df_dummy, drop_first=True)"
   ]
  },
  {
   "cell_type": "code",
   "execution_count": 265,
   "metadata": {},
   "outputs": [],
   "source": [
    "X_train, X_test, y_train, y_test = train_test_split(df_dummy.drop(columns=['h_rate'], axis=1),\n",
    "                                                    df_dummy['h_rate'], \n",
    "                                                    test_size=0.00, random_state=42)\n",
    "# I put 0% in the test set because I'm not interested in creating a model for future\n",
    "# predictions. Instead, I'm just looking to see if sex is significantly correlated with compensation (e.g. P-value)"
   ]
  },
  {
   "cell_type": "code",
   "execution_count": 266,
   "metadata": {},
   "outputs": [
    {
     "data": {
      "text/html": [
       "<div>\n",
       "<style scoped>\n",
       "    .dataframe tbody tr th:only-of-type {\n",
       "        vertical-align: middle;\n",
       "    }\n",
       "\n",
       "    .dataframe tbody tr th {\n",
       "        vertical-align: top;\n",
       "    }\n",
       "\n",
       "    .dataframe thead th {\n",
       "        text-align: right;\n",
       "    }\n",
       "</style>\n",
       "<table border=\"1\" class=\"dataframe\">\n",
       "  <thead>\n",
       "    <tr style=\"text-align: right;\">\n",
       "      <th></th>\n",
       "      <th>depart_City Auditor</th>\n",
       "      <th>depart_City Budget Office</th>\n",
       "      <th>depart_City Employees Retirement Syst</th>\n",
       "      <th>depart_City Light</th>\n",
       "      <th>depart_Civil Service Commissions</th>\n",
       "      <th>depart_Community Police Commission</th>\n",
       "      <th>depart_Construction and Land Use</th>\n",
       "      <th>depart_Dept of Education &amp; Early Lrng</th>\n",
       "      <th>depart_Dept of Finance &amp; Admn Svc</th>\n",
       "      <th>depart_Dept of Neighborhoods</th>\n",
       "      <th>...</th>\n",
       "      <th>depart_Planning and Community Develop</th>\n",
       "      <th>depart_Police Department</th>\n",
       "      <th>depart_Police Pension System</th>\n",
       "      <th>depart_Seattle Center</th>\n",
       "      <th>depart_Seattle Dept of Const and Insp</th>\n",
       "      <th>depart_Seattle Dept of HumanResources</th>\n",
       "      <th>depart_Seattle Dept of Transportation</th>\n",
       "      <th>depart_Seattle Information Technology</th>\n",
       "      <th>depart_Seattle Public Utilities</th>\n",
       "      <th>sex_male</th>\n",
       "    </tr>\n",
       "  </thead>\n",
       "  <tbody>\n",
       "    <tr>\n",
       "      <th>116</th>\n",
       "      <td>0</td>\n",
       "      <td>0</td>\n",
       "      <td>1</td>\n",
       "      <td>0</td>\n",
       "      <td>0</td>\n",
       "      <td>0</td>\n",
       "      <td>0</td>\n",
       "      <td>0</td>\n",
       "      <td>0</td>\n",
       "      <td>0</td>\n",
       "      <td>...</td>\n",
       "      <td>0</td>\n",
       "      <td>0</td>\n",
       "      <td>0</td>\n",
       "      <td>0</td>\n",
       "      <td>0</td>\n",
       "      <td>0</td>\n",
       "      <td>0</td>\n",
       "      <td>0</td>\n",
       "      <td>0</td>\n",
       "      <td>0</td>\n",
       "    </tr>\n",
       "    <tr>\n",
       "      <th>10090</th>\n",
       "      <td>0</td>\n",
       "      <td>0</td>\n",
       "      <td>0</td>\n",
       "      <td>0</td>\n",
       "      <td>0</td>\n",
       "      <td>0</td>\n",
       "      <td>0</td>\n",
       "      <td>0</td>\n",
       "      <td>0</td>\n",
       "      <td>0</td>\n",
       "      <td>...</td>\n",
       "      <td>0</td>\n",
       "      <td>0</td>\n",
       "      <td>0</td>\n",
       "      <td>0</td>\n",
       "      <td>0</td>\n",
       "      <td>0</td>\n",
       "      <td>1</td>\n",
       "      <td>0</td>\n",
       "      <td>0</td>\n",
       "      <td>1</td>\n",
       "    </tr>\n",
       "    <tr>\n",
       "      <th>10714</th>\n",
       "      <td>0</td>\n",
       "      <td>0</td>\n",
       "      <td>0</td>\n",
       "      <td>0</td>\n",
       "      <td>0</td>\n",
       "      <td>0</td>\n",
       "      <td>0</td>\n",
       "      <td>0</td>\n",
       "      <td>0</td>\n",
       "      <td>0</td>\n",
       "      <td>...</td>\n",
       "      <td>0</td>\n",
       "      <td>0</td>\n",
       "      <td>0</td>\n",
       "      <td>0</td>\n",
       "      <td>0</td>\n",
       "      <td>0</td>\n",
       "      <td>0</td>\n",
       "      <td>1</td>\n",
       "      <td>0</td>\n",
       "      <td>1</td>\n",
       "    </tr>\n",
       "    <tr>\n",
       "      <th>3531</th>\n",
       "      <td>0</td>\n",
       "      <td>0</td>\n",
       "      <td>0</td>\n",
       "      <td>0</td>\n",
       "      <td>0</td>\n",
       "      <td>0</td>\n",
       "      <td>0</td>\n",
       "      <td>0</td>\n",
       "      <td>0</td>\n",
       "      <td>0</td>\n",
       "      <td>...</td>\n",
       "      <td>0</td>\n",
       "      <td>0</td>\n",
       "      <td>0</td>\n",
       "      <td>0</td>\n",
       "      <td>0</td>\n",
       "      <td>0</td>\n",
       "      <td>0</td>\n",
       "      <td>0</td>\n",
       "      <td>0</td>\n",
       "      <td>1</td>\n",
       "    </tr>\n",
       "    <tr>\n",
       "      <th>3933</th>\n",
       "      <td>0</td>\n",
       "      <td>0</td>\n",
       "      <td>0</td>\n",
       "      <td>0</td>\n",
       "      <td>0</td>\n",
       "      <td>0</td>\n",
       "      <td>0</td>\n",
       "      <td>0</td>\n",
       "      <td>0</td>\n",
       "      <td>0</td>\n",
       "      <td>...</td>\n",
       "      <td>0</td>\n",
       "      <td>0</td>\n",
       "      <td>0</td>\n",
       "      <td>0</td>\n",
       "      <td>0</td>\n",
       "      <td>0</td>\n",
       "      <td>0</td>\n",
       "      <td>0</td>\n",
       "      <td>0</td>\n",
       "      <td>0</td>\n",
       "    </tr>\n",
       "  </tbody>\n",
       "</table>\n",
       "<p>5 rows × 36 columns</p>\n",
       "</div>"
      ],
      "text/plain": [
       "       depart_City Auditor  depart_City Budget Office  \\\n",
       "116                      0                          0   \n",
       "10090                    0                          0   \n",
       "10714                    0                          0   \n",
       "3531                     0                          0   \n",
       "3933                     0                          0   \n",
       "\n",
       "       depart_City Employees Retirement Syst  depart_City Light  \\\n",
       "116                                        1                  0   \n",
       "10090                                      0                  0   \n",
       "10714                                      0                  0   \n",
       "3531                                       0                  0   \n",
       "3933                                       0                  0   \n",
       "\n",
       "       depart_Civil Service Commissions  depart_Community Police Commission  \\\n",
       "116                                   0                                   0   \n",
       "10090                                 0                                   0   \n",
       "10714                                 0                                   0   \n",
       "3531                                  0                                   0   \n",
       "3933                                  0                                   0   \n",
       "\n",
       "       depart_Construction and Land Use  \\\n",
       "116                                   0   \n",
       "10090                                 0   \n",
       "10714                                 0   \n",
       "3531                                  0   \n",
       "3933                                  0   \n",
       "\n",
       "       depart_Dept of Education & Early Lrng  \\\n",
       "116                                        0   \n",
       "10090                                      0   \n",
       "10714                                      0   \n",
       "3531                                       0   \n",
       "3933                                       0   \n",
       "\n",
       "       depart_Dept of Finance & Admn Svc  depart_Dept of Neighborhoods  \\\n",
       "116                                    0                             0   \n",
       "10090                                  0                             0   \n",
       "10714                                  0                             0   \n",
       "3531                                   0                             0   \n",
       "3933                                   0                             0   \n",
       "\n",
       "         ...     depart_Planning and Community Develop  \\\n",
       "116      ...                                         0   \n",
       "10090    ...                                         0   \n",
       "10714    ...                                         0   \n",
       "3531     ...                                         0   \n",
       "3933     ...                                         0   \n",
       "\n",
       "       depart_Police Department  depart_Police Pension System  \\\n",
       "116                           0                             0   \n",
       "10090                         0                             0   \n",
       "10714                         0                             0   \n",
       "3531                          0                             0   \n",
       "3933                          0                             0   \n",
       "\n",
       "       depart_Seattle Center  depart_Seattle Dept of Const and Insp  \\\n",
       "116                        0                                      0   \n",
       "10090                      0                                      0   \n",
       "10714                      0                                      0   \n",
       "3531                       0                                      0   \n",
       "3933                       0                                      0   \n",
       "\n",
       "       depart_Seattle Dept of HumanResources  \\\n",
       "116                                        0   \n",
       "10090                                      0   \n",
       "10714                                      0   \n",
       "3531                                       0   \n",
       "3933                                       0   \n",
       "\n",
       "       depart_Seattle Dept of Transportation  \\\n",
       "116                                        0   \n",
       "10090                                      1   \n",
       "10714                                      0   \n",
       "3531                                       0   \n",
       "3933                                       0   \n",
       "\n",
       "       depart_Seattle Information Technology  depart_Seattle Public Utilities  \\\n",
       "116                                        0                                0   \n",
       "10090                                      0                                0   \n",
       "10714                                      1                                0   \n",
       "3531                                       0                                0   \n",
       "3933                                       0                                0   \n",
       "\n",
       "       sex_male  \n",
       "116           0  \n",
       "10090         1  \n",
       "10714         1  \n",
       "3531          1  \n",
       "3933          0  \n",
       "\n",
       "[5 rows x 36 columns]"
      ]
     },
     "execution_count": 266,
     "metadata": {},
     "output_type": "execute_result"
    }
   ],
   "source": [
    "X_train.head()"
   ]
  },
  {
   "cell_type": "code",
   "execution_count": 267,
   "metadata": {},
   "outputs": [
    {
     "name": "stdout",
     "output_type": "stream",
     "text": [
      "                            OLS Regression Results                            \n",
      "==============================================================================\n",
      "Dep. Variable:                 h_rate   R-squared:                       0.287\n",
      "Model:                            OLS   Adj. R-squared:                  0.285\n",
      "Method:                 Least Squares   F-statistic:                     122.3\n",
      "Date:                Tue, 03 Apr 2018   Prob (F-statistic):               0.00\n",
      "Time:                        13:21:04   Log-Likelihood:                -42398.\n",
      "No. Observations:               10983   AIC:                         8.487e+04\n",
      "Df Residuals:                   10946   BIC:                         8.514e+04\n",
      "Df Model:                          36                                         \n",
      "Covariance Type:            nonrobust                                         \n",
      "=========================================================================================================\n",
      "                                            coef    std err          t      P>|t|      [0.025      0.975]\n",
      "---------------------------------------------------------------------------------------------------------\n",
      "const                                    34.4993      2.004     17.216      0.000      30.571      38.427\n",
      "depart_City Auditor                      20.9010      4.154      5.031      0.000      12.758      29.044\n",
      "depart_City Budget Office                13.5971      2.739      4.965      0.000       8.229      18.966\n",
      "depart_City Employees Retirement Syst    15.7276      2.986      5.267      0.000       9.874      21.581\n",
      "depart_City Light                         6.8432      2.027      3.376      0.001       2.870      10.816\n",
      "depart_Civil Service Commissions        -19.2277      4.535     -4.240      0.000     -28.118     -10.338\n",
      "depart_Community Police Commission        4.6807      8.380      0.559      0.576     -11.746      21.108\n",
      "depart_Construction and Land Use        -15.6689      5.523     -2.837      0.005     -26.495      -4.843\n",
      "depart_Dept of Education & Early Lrng     6.8684      2.614      2.628      0.009       1.745      11.991\n",
      "depart_Dept of Finance & Admn Svc         3.8619      2.064      1.871      0.061      -0.184       7.908\n",
      "depart_Dept of Neighborhoods            -18.3793     11.681     -1.573      0.116     -41.276       4.518\n",
      "depart_Fire Department                    7.0197      2.041      3.440      0.001       3.019      11.020\n",
      "depart_Hearing Examiner                  17.9284      6.093      2.943      0.003       5.986      29.871\n",
      "depart_Human Services                    -3.2795      2.105     -1.558      0.119      -7.406       0.847\n",
      "depart_Immigrant & Refugee Affairs        7.7053      4.789      1.609      0.108      -1.682      17.092\n",
      "depart_Intergovernmental Relations       13.9074      4.007      3.471      0.001       6.054      21.761\n",
      "depart_Legislative                      -18.5208      4.155     -4.457      0.000     -26.666     -10.376\n",
      "depart_Legislative-City Council           4.9196      2.320      2.121      0.034       0.372       9.467\n",
      "depart_Mayor's Office                    15.8671      2.723      5.827      0.000      10.529      21.205\n",
      "depart_Neighborhoods Department           3.9261      2.592      1.515      0.130      -1.154       9.006\n",
      "depart_Office for Civil Rights            5.8988      3.213      1.836      0.066      -0.400      12.197\n",
      "depart_Office of Economic Development     9.8789      2.904      3.401      0.001       4.186      15.572\n",
      "depart_Office of Ethics & Elections      12.7750      4.536      2.816      0.005       3.883      21.667\n",
      "depart_Office of Housing                  8.1925      2.793      2.933      0.003       2.718      13.667\n",
      "depart_Office of Labor Standards          4.3271      3.768      1.148      0.251      -3.060      11.714\n",
      "depart_Office of Sustainability & Env    13.5837      3.167      4.288      0.000       7.375      19.793\n",
      "depart_Parks Department                  -9.9177      2.031     -4.884      0.000     -13.898      -5.937\n",
      "depart_Planning and Community Develop    12.8430      2.739      4.688      0.000       7.473      18.213\n",
      "depart_Police Department                  8.2582      2.025      4.079      0.000       4.290      12.227\n",
      "depart_Police Pension System             18.5737      6.093      3.048      0.002       6.630      30.517\n",
      "depart_Seattle Center                    -9.4662      2.052     -4.614      0.000     -13.488      -5.444\n",
      "depart_Seattle Dept of Const and Insp     7.3045      2.102      3.475      0.001       3.184      11.425\n",
      "depart_Seattle Dept of HumanResources     8.9338      2.319      3.852      0.000       4.388      13.480\n",
      "depart_Seattle Dept of Transportation     4.4997      2.048      2.197      0.028       0.485       8.514\n",
      "depart_Seattle Information Technology    14.5441      2.061      7.056      0.000      10.504      18.584\n",
      "depart_Seattle Public Utilities           4.6439      2.033      2.285      0.022       0.659       8.628\n",
      "sex_male                                  2.0292      0.238      8.511      0.000       1.562       2.497\n",
      "==============================================================================\n",
      "Omnibus:                     2224.728   Durbin-Watson:                   2.025\n",
      "Prob(Omnibus):                  0.000   Jarque-Bera (JB):             8696.912\n",
      "Skew:                           0.966   Prob(JB):                         0.00\n",
      "Kurtosis:                       6.908   Cond. No.                         149.\n",
      "==============================================================================\n",
      "\n",
      "Warnings:\n",
      "[1] Standard Errors assume that the covariance matrix of the errors is correctly specified.\n"
     ]
    }
   ],
   "source": [
    "# Run a regression\n",
    "\n",
    "X = X_train\n",
    "y = y_train\n",
    "\n",
    "X2 = sm.add_constant(X)\n",
    "est = sm.OLS(y, X2)\n",
    "est2 = est.fit()\n",
    "print(est2.summary())"
   ]
  },
  {
   "cell_type": "markdown",
   "metadata": {},
   "source": [
    "Clearly sex is an important feature after accounting for the department (p-val < 0.001)."
   ]
  }
 ],
 "metadata": {
  "kernelspec": {
   "display_name": "Python 3",
   "language": "python",
   "name": "python3"
  },
  "language_info": {
   "codemirror_mode": {
    "name": "ipython",
    "version": 3
   },
   "file_extension": ".py",
   "mimetype": "text/x-python",
   "name": "python",
   "nbconvert_exporter": "python",
   "pygments_lexer": "ipython3",
   "version": "3.6.4"
  }
 },
 "nbformat": 4,
 "nbformat_minor": 2
}
